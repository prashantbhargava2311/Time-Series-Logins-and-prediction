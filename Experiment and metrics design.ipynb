{
 "cells": [
  {
   "cell_type": "markdown",
   "metadata": {},
   "source": [
    "\n",
    "# Part 2 ‑ Experiment and metrics design\n",
    "\n",
    "The neighboring cities of Gotham and Metropolis have complementary circadian rhythms: on weekdays, Ultimate Gotham is most active at night, and Ultimate Metropolis is most active during the day. On weekends, there is reasonable activity in both cities.\n",
    "\n",
    "However, a toll bridge, with a two­way toll, between the two cities causes driver partners to tend to be exclusive to each city. The Ultimate managers of city operations for the two cities have proposed an experiment to encourage driver partners to be available in both cities, by reimbursing all toll costs.\n",
    "\n",
    " 1. What would you choose as the key measure of success of this experiment in encouraging driver partners to serve both cities, and why would you choose this metric?\n",
    " 2. Describe a practical experiment you would design to compare the effectiveness of the proposed change in relation to the key measure of success. Please provide details on:\n",
    "     1. how you will implement the experiment\n",
    "     2. what statistical test(s) you will conduct to verify the significance of the observation\n",
    "     3. how you would interpret the results and provide recommendations to the city operations team along with any\n",
    "        caveats?"
   ]
  },
  {
   "cell_type": "markdown",
   "metadata": {},
   "source": [
    "To clarify the problem I am making the following assumptions:\n",
    "1. There is an electronic record of the number of cars that use the bridge. This is a reasonable assumption, as to\n",
    "   reimburse the partner drivers.\n",
    "2. There is historical data on bridge use.\n"
   ]
  },
  {
   "cell_type": "markdown",
   "metadata": {},
   "source": [
    "# The key metric"
   ]
  },
  {
   "cell_type": "markdown",
   "metadata": {},
   "source": [
    "Specifically, during the daytime hours on weekdays, is there an increase of cars entering the bridge from Gotham AND during the night is there an increase of cars entering the bridge from Metropolis. I choose this metric because it required only two assumptions, is easily measured, and doesn't require waiting for reimbursement data to accumulate"
   ]
  },
  {
   "cell_type": "markdown",
   "metadata": {},
   "source": [
    "# Effectiveness of the proposed change in relation to the key measure of success"
   ]
  },
  {
   "cell_type": "markdown",
   "metadata": {},
   "source": [
    "In order to answer the above questions I would use two hypothesis tests.\n",
    "\n",
    "    H0: There is no difference between the mean number of cars entering the bridge from Gotham during weekdays between 7 am and 7 pm, two weeks before reimbursements were offered and the mean number of cars two weeks after reimbursements were offered.\n",
    "\n",
    "    H2: There is an INCREASE in the mean number of cars entering the bridge from Gotham during weekdays between 7 am and 7 pm, two weeks before reimbursements were offered and the mean number of cars two weeks after reimbursements were offered.\n",
    "\n",
    "    H0: There is no difference between the mean number of cars entering the bridge from Metropolis during weekdays between 7 pm and 5 am, two weeks before reimbursements were offered and the mean number of cars two weeks after reimbursements were offered.\n",
    "\n",
    "    H2: There is an INCREASE in the mean number of cars entering the bridge from Metropolis during weekdays between 7 pm and 5 am, two weeks before reimbursements were offered and the mean number of cars two weeks after reimbursements were offered.\n"
   ]
  },
  {
   "cell_type": "markdown",
   "metadata": {},
   "source": [
    "would use a one-tailed Z-test to determine the p-value of each hypothesis.\n",
    "\n",
    "If the p-value is less than 0.05 for BOTH tests I would reject the null hypotheses and recommend the reimbursement program continue, with the caveat that the study should be repeated in a year with more data.\n",
    "\n",
    "If the p-value is greater than 0.05 for BOTH tests I would fail to reject the null hypotheses and recommend that a different program be developed to increase partner driving between the two cities.\n",
    "\n",
    "If the p-value is mixed, so only one hypothesis has a p-value less than 0.05 I would recommend that the analysis is inconclusive and that further investigation is needed.\n"
   ]
  }
 ],
 "metadata": {
  "kernelspec": {
   "display_name": "Python 3",
   "language": "python",
   "name": "python3"
  },
  "language_info": {
   "codemirror_mode": {
    "name": "ipython",
    "version": 3
   },
   "file_extension": ".py",
   "mimetype": "text/x-python",
   "name": "python",
   "nbconvert_exporter": "python",
   "pygments_lexer": "ipython3",
   "version": "3.8.2"
  }
 },
 "nbformat": 4,
 "nbformat_minor": 4
}
